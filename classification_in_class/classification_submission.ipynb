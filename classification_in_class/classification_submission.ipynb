{
 "cells": [
  {
   "cell_type": "markdown",
   "metadata": {},
   "source": [
    "# Training a machine learning model with scikit-learn\n",
    "\n",
    "Based on code combined from created by [Data School](http://www.dataschool.io/). Watch all 9 videos on [YouTube](https://www.youtube.com/playlist?list=PL5-da3qGB5ICeMbQuqbbCOQWcS6OYBr5A). Download the notebooks from [GitHub](https://github.com/justmarkham/scikit-learn-videos).\n",
    "\n",
    "**Note:** This notebook uses Python 3.6 and scikit-learn 0.19.1. The original notebook (shown in the video) used Python 2.7 and scikit-learn 0.16, and can be downloaded from the [archive branch](https://github.com/justmarkham/scikit-learn-videos/tree/archive)."
   ]
  },
  {
   "cell_type": "markdown",
   "metadata": {},
   "source": [
    "## Agenda\n",
    "\n",
    "- What are the four steps for **model training and prediction** in scikit-learn?\n",
    "- How can I apply this pattern to **various machine learning models**?\n",
    "- How can I evaluate **which model is better**?"
   ]
  },
  {
   "cell_type": "markdown",
   "metadata": {},
   "source": [
    "## Reviewing the iris dataset"
   ]
  },
  {
   "cell_type": "code",
   "execution_count": 1,
   "metadata": {},
   "outputs": [],
   "source": [
    "from IPython.display import IFrame\n",
    "IFrame('http://archive.ics.uci.edu/ml/machine-learning-databases/iris/iris.data', width=300, height=200)"
   ]
  },
  {
   "cell_type": "markdown",
   "metadata": {},
   "source": [
    "- 150 **observations**\n",
    "- 4 **features** (sepal length, sepal width, petal length, petal width)\n",
    "- **Response** variable is the iris species\n",
    "- **Classification** problem since response is categorical\n",
    "- More information in the [UCI Machine Learning Repository](http://archive.ics.uci.edu/ml/datasets/Iris)"
   ]
  },
  {
   "cell_type": "markdown",
   "metadata": {},
   "source": [
    "## Loading the data"
   ]
  },
  {
   "cell_type": "code",
   "execution_count": 1,
   "metadata": {},
   "outputs": [],
   "source": [
    "# import load_iris function from datasets module\n",
    "from sklearn.datasets import load_iris\n",
    "from sklearn.model_selection import train_test_split\n",
    "\n",
    "# save \"bunch\" object containing iris dataset and its attributes\n",
    "iris = load_iris()\n",
    "\n",
    "# store feature matrix in \"X\"\n",
    "X = iris.data\n",
    "\n",
    "# store response vector in \"y\"\n",
    "y = iris.target\n",
    "\n",
    "# use train/test split with different random_state values\n",
    "X_train, X_test, y_train, y_test = train_test_split(X, y, random_state=4)"
   ]
  },
  {
   "cell_type": "code",
   "execution_count": 2,
   "metadata": {},
   "outputs": [
    {
     "name": "stdout",
     "output_type": "stream",
     "text": [
      "(150, 4)\n",
      "(150,)\n"
     ]
    }
   ],
   "source": [
    "# print the shapes of X and y\n",
    "print(X.shape)\n",
    "print(y.shape)"
   ]
  },
  {
   "cell_type": "markdown",
   "metadata": {},
   "source": [
    "## scikit-learn 4-step modeling pattern\n",
    "\n",
    "We will take a look at the 4 main steps using the k-nearest neighbors classifier"
   ]
  },
  {
   "cell_type": "markdown",
   "metadata": {},
   "source": [
    "**Step 1:** Import the class you plan to use"
   ]
  },
  {
   "cell_type": "code",
   "execution_count": 3,
   "metadata": {},
   "outputs": [],
   "source": [
    "from sklearn.neighbors import KNeighborsClassifier"
   ]
  },
  {
   "cell_type": "markdown",
   "metadata": {},
   "source": [
    "**Step 2:** \"Instantiate\" the \"estimator\"\n",
    "\n",
    "- \"Estimator\" is scikit-learn's term for model\n",
    "- \"Instantiate\" means \"make an instance of\""
   ]
  },
  {
   "cell_type": "code",
   "execution_count": 30,
   "metadata": {},
   "outputs": [],
   "source": [
    "knn = KNeighborsClassifier(n_neighbors=1)"
   ]
  },
  {
   "cell_type": "markdown",
   "metadata": {},
   "source": [
    "- Name of the object does not matter\n",
    "- Can specify tuning parameters (aka \"hyperparameters\") during this step\n",
    "- All parameters not specified are set to their defaults"
   ]
  },
  {
   "cell_type": "code",
   "execution_count": 31,
   "metadata": {},
   "outputs": [
    {
     "name": "stdout",
     "output_type": "stream",
     "text": [
      "KNeighborsClassifier(algorithm='auto', leaf_size=30, metric='minkowski',\n",
      "           metric_params=None, n_jobs=None, n_neighbors=1, p=2,\n",
      "           weights='uniform')\n"
     ]
    }
   ],
   "source": [
    "print(knn)"
   ]
  },
  {
   "cell_type": "markdown",
   "metadata": {},
   "source": [
    "**Step 3:** Fit the model with data (aka \"model training\")\n",
    "\n",
    "- Model is learning the relationship between X and y\n",
    "- Occurs in-place"
   ]
  },
  {
   "cell_type": "code",
   "execution_count": 32,
   "metadata": {},
   "outputs": [
    {
     "data": {
      "text/plain": [
       "KNeighborsClassifier(algorithm='auto', leaf_size=30, metric='minkowski',\n",
       "           metric_params=None, n_jobs=None, n_neighbors=1, p=2,\n",
       "           weights='uniform')"
      ]
     },
     "execution_count": 32,
     "metadata": {},
     "output_type": "execute_result"
    }
   ],
   "source": [
    "knn.fit(X_train, y_train)"
   ]
  },
  {
   "cell_type": "markdown",
   "metadata": {},
   "source": [
    "**Step 4:** Predict the response for a new observation\n",
    "\n",
    "- New observations are called \"out-of-sample\" data\n",
    "- Uses the information it learned during the model training process"
   ]
  },
  {
   "cell_type": "code",
   "execution_count": 33,
   "metadata": {},
   "outputs": [
    {
     "data": {
      "text/plain": [
       "array([2])"
      ]
     },
     "execution_count": 33,
     "metadata": {},
     "output_type": "execute_result"
    }
   ],
   "source": [
    "knn.predict([[3, 5, 4, 2]])"
   ]
  },
  {
   "cell_type": "markdown",
   "metadata": {},
   "source": [
    "- Returns a NumPy array\n",
    "- Can predict for multiple observations at once"
   ]
  },
  {
   "cell_type": "code",
   "execution_count": 34,
   "metadata": {},
   "outputs": [
    {
     "data": {
      "text/plain": [
       "array([2, 1])"
      ]
     },
     "execution_count": 34,
     "metadata": {},
     "output_type": "execute_result"
    }
   ],
   "source": [
    "X_new = [[3, 5, 4, 2], [5, 4, 3, 2]]\n",
    "knn.predict(X_new)"
   ]
  },
  {
   "cell_type": "markdown",
   "metadata": {},
   "source": [
    "## Evalutating the different models"
   ]
  },
  {
   "cell_type": "code",
   "execution_count": 35,
   "metadata": {},
   "outputs": [
    {
     "data": {
      "text/plain": [
       "array([0.94736842, 0.94736842, 1.        ])"
      ]
     },
     "execution_count": 35,
     "metadata": {},
     "output_type": "execute_result"
    }
   ],
   "source": [
    "# evaluate the model using cross-validation\n",
    "from sklearn.model_selection import cross_val_score\n",
    "cross_val_score(knn, X_train, y_train, cv=3, scoring=\"accuracy\")"
   ]
  },
  {
   "cell_type": "code",
   "execution_count": 36,
   "metadata": {},
   "outputs": [
    {
     "name": "stdout",
     "output_type": "stream",
     "text": [
      "[[32  0  0]\n",
      " [ 0 40  2]\n",
      " [ 0  2 36]]\n"
     ]
    },
    {
     "data": {
      "image/png": "[encoded data removed]",
      "text/plain": [
       "<Figure size 288x288 with 1 Axes>"
      ]
     },
     "metadata": {
      "needs_background": "light"
     },
     "output_type": "display_data"
    }
   ],
   "source": [
    "# evaluate the model using confustion matrix \n",
    "from sklearn.model_selection import cross_val_predict\n",
    "from sklearn.metrics import confusion_matrix\n",
    "import matplotlib as mpl\n",
    "import matplotlib.pyplot as plt\n",
    "\n",
    "y_train_pred = cross_val_predict(knn, X_train, y_train, cv=3)\n",
    "conf_mx = confusion_matrix(y_train, y_train_pred)\n",
    "print(conf_mx)\n",
    "plt.matshow(conf_mx, cmap=plt.cm.gray)\n",
    "plt.show()"
   ]
  },
  {
   "cell_type": "code",
   "execution_count": 37,
   "metadata": {},
   "outputs": [
    {
     "name": "stdout",
     "output_type": "stream",
     "text": [
      "\t\t  class 1\tclass 2\t class 3\n",
      "precision: \t [1.         0.95238095 0.94736842]\n",
      "recall: \t [1.         0.95238095 0.94736842]\n",
      "f1_score: \t [1.         0.95238095 0.94736842]\n"
     ]
    }
   ],
   "source": [
    "#  evaluate using precision, recall, and f1 score\n",
    "from sklearn.metrics import precision_score, recall_score, f1_score\n",
    "\n",
    "prec = precision_score(y_train, y_train_pred, average=None)\n",
    "rec = recall_score(y_train, y_train_pred, average=None)\n",
    "f1 = f1_score(y_train, y_train_pred, average=None)\n",
    "\n",
    "print(\"\\t\\t  class 1\\tclass 2\\t class 3\")\n",
    "print(\"precision: \\t\", prec)\n",
    "print(\"recall: \\t\", rec)\n",
    "print(\"f1_score: \\t\", f1)\n"
   ]
  },
  {
   "cell_type": "markdown",
   "metadata": {},
   "source": [
    "## Using a different value for K"
   ]
  },
  {
   "cell_type": "code",
   "execution_count": 38,
   "metadata": {},
   "outputs": [
    {
     "data": {
      "text/plain": [
       "array([1, 1])"
      ]
     },
     "execution_count": 38,
     "metadata": {},
     "output_type": "execute_result"
    }
   ],
   "source": [
    "# instantiate the model (using the value K=5)\n",
    "knn = KNeighborsClassifier(n_neighbors=5)\n",
    "\n",
    "# fit the model with data\n",
    "knn.fit(X_train, y_train)\n",
    "\n",
    "# predict the response for new observations\n",
    "knn.predict(X_new)"
   ]
  },
  {
   "cell_type": "code",
   "execution_count": 39,
   "metadata": {},
   "outputs": [
    {
     "name": "stdout",
     "output_type": "stream",
     "text": [
      "cross_val: [0.97368421 0.94736842 1.        ]\n",
      "confusion matrix:\n",
      " [[32  0  0]\n",
      " [ 0 40  2]\n",
      " [ 0  1 37]]\n"
     ]
    },
    {
     "data": {
      "image/png": "[encoded data removed]",
      "text/plain": [
       "<Figure size 288x288 with 1 Axes>"
      ]
     },
     "metadata": {
      "needs_background": "light"
     },
     "output_type": "display_data"
    },
    {
     "name": "stdout",
     "output_type": "stream",
     "text": [
      "\t\t  class 1\tclass 2\t class 3\n",
      "precision: \t [1.         0.97560976 0.94871795]\n",
      "recall: \t [1.         0.95238095 0.97368421]\n",
      "f1_score: \t [1.         0.96385542 0.96103896]\n"
     ]
    }
   ],
   "source": [
    "# evaluate the new model:\n",
    "cross_val = cross_val_score(knn, X_train, y_train, cv=3, scoring=\"accuracy\")\n",
    "print(\"cross_val:\", cross_val)\n",
    "\n",
    "\n",
    "y_train_pred = cross_val_predict(knn, X_train, y_train, cv=3)\n",
    "conf_mx = confusion_matrix(y_train, y_train_pred)\n",
    "print(\"confusion matrix:\\n\", conf_mx)\n",
    "plt.matshow(conf_mx, cmap=plt.cm.gray)\n",
    "plt.show()\n",
    "\n",
    "prec = precision_score(y_train, y_train_pred, average=None)\n",
    "rec = recall_score(y_train, y_train_pred, average=None)\n",
    "f1 = f1_score(y_train, y_train_pred, average=None)\n",
    "\n",
    "print(\"\\t\\t  class 1\\tclass 2\\t class 3\")\n",
    "print(\"precision: \\t\", prec)\n",
    "print(\"recall: \\t\", rec)\n",
    "print(\"f1_score: \\t\", f1)\n"
   ]
  },
  {
   "cell_type": "markdown",
   "metadata": {},
   "source": [
    "**QUESTION:** Based on the above evaluation for the two knn models, k=1 and k=5, which model performed better and why?"
   ]
  },
  {
   "cell_type": "markdown",
   "metadata": {},
   "source": [
    "**ANSWER:** The model that used more neighbors performed better. this is most likely because the k-nearest-neighbor algorithm is overfitting to the data if it only looks at the closest point. By using more points the model generalizes more effectively."
   ]
  },
  {
   "cell_type": "raw",
   "metadata": {},
   "source": [
    "## Using a different classification model\n",
    "\n",
    "Now, pick three of the different classification models we discussed in class last time, and follow the same classification and evaluation procedures as above."
   ]
  },
  {
   "cell_type": "code",
   "execution_count": null,
   "metadata": {},
   "outputs": [],
   "source": []
  },
  {
   "cell_type": "code",
   "execution_count": 43,
   "metadata": {},
   "outputs": [
    {
     "name": "stdout",
     "output_type": "stream",
     "text": [
      "Prediction for our new observation X_new:  [2 1]\n",
      "cross_val: [0.97368421 0.97368421 1.        ]\n",
      "confusion matrix:\n",
      " [[32  0  0]\n",
      " [ 0 42  0]\n",
      " [ 0  2 36]]\n"
     ]
    },
    {
     "name": "stderr",
     "output_type": "stream",
     "text": [
      "/home/nate/anaconda3/envs/cs791/lib/python3.7/site-packages/sklearn/svm/base.py:196: FutureWarning: The default value of gamma will change from 'auto' to 'scale' in version 0.22 to account better for unscaled features. Set gamma explicitly to 'auto' or 'scale' to avoid this warning.\n",
      "  \"avoid this warning.\", FutureWarning)\n",
      "/home/nate/anaconda3/envs/cs791/lib/python3.7/site-packages/sklearn/svm/base.py:196: FutureWarning: The default value of gamma will change from 'auto' to 'scale' in version 0.22 to account better for unscaled features. Set gamma explicitly to 'auto' or 'scale' to avoid this warning.\n",
      "  \"avoid this warning.\", FutureWarning)\n",
      "/home/nate/anaconda3/envs/cs791/lib/python3.7/site-packages/sklearn/svm/base.py:196: FutureWarning: The default value of gamma will change from 'auto' to 'scale' in version 0.22 to account better for unscaled features. Set gamma explicitly to 'auto' or 'scale' to avoid this warning.\n",
      "  \"avoid this warning.\", FutureWarning)\n",
      "/home/nate/anaconda3/envs/cs791/lib/python3.7/site-packages/sklearn/svm/base.py:196: FutureWarning: The default value of gamma will change from 'auto' to 'scale' in version 0.22 to account better for unscaled features. Set gamma explicitly to 'auto' or 'scale' to avoid this warning.\n",
      "  \"avoid this warning.\", FutureWarning)\n",
      "/home/nate/anaconda3/envs/cs791/lib/python3.7/site-packages/sklearn/svm/base.py:196: FutureWarning: The default value of gamma will change from 'auto' to 'scale' in version 0.22 to account better for unscaled features. Set gamma explicitly to 'auto' or 'scale' to avoid this warning.\n",
      "  \"avoid this warning.\", FutureWarning)\n",
      "/home/nate/anaconda3/envs/cs791/lib/python3.7/site-packages/sklearn/svm/base.py:196: FutureWarning: The default value of gamma will change from 'auto' to 'scale' in version 0.22 to account better for unscaled features. Set gamma explicitly to 'auto' or 'scale' to avoid this warning.\n",
      "  \"avoid this warning.\", FutureWarning)\n",
      "/home/nate/anaconda3/envs/cs791/lib/python3.7/site-packages/sklearn/svm/base.py:196: FutureWarning: The default value of gamma will change from 'auto' to 'scale' in version 0.22 to account better for unscaled features. Set gamma explicitly to 'auto' or 'scale' to avoid this warning.\n",
      "  \"avoid this warning.\", FutureWarning)\n"
     ]
    },
    {
     "data": {
      "image/png": "[encoded data removed]",
      "text/plain": [
       "<Figure size 288x288 with 1 Axes>"
      ]
     },
     "metadata": {
      "needs_background": "light"
     },
     "output_type": "display_data"
    },
    {
     "name": "stdout",
     "output_type": "stream",
     "text": [
      "\t\t  class 1\tclass 2\t class 3\n",
      "precision: \t [1.         0.95454545 1.        ]\n",
      "recall: \t [1.         1.         0.94736842]\n",
      "f1_score: \t [1.         0.97674419 0.97297297]\n"
     ]
    }
   ],
   "source": [
    "# ANSWER: FIRST NEW CLASSIFICATION MODEL \n",
    "#         - fill in the ???? with your chosen classifier!!!\n",
    "\n",
    "# import the class\n",
    "from sklearn.svm import SVC\n",
    "\n",
    "# instantiate the model (using the default parameters)\n",
    "svc = SVC()\n",
    "\n",
    "# fit the model with data\n",
    "svc.fit(X_train, y_train)\n",
    "\n",
    "# predict the response for new observations\n",
    "pred = svc.predict(X_new)\n",
    "print(\"Prediction for our new observation X_new: \", pred)\n",
    "\n",
    "# evaluate the new model:\n",
    "cross_val = cross_val_score(svc, X_train, y_train, cv=3, scoring=\"accuracy\")\n",
    "print(\"cross_val:\", cross_val)\n",
    "\n",
    "y_train_pred = cross_val_predict(svc, X_train, y_train, cv=3)\n",
    "conf_mx = confusion_matrix(y_train, y_train_pred)\n",
    "print(\"confusion matrix:\\n\", conf_mx)\n",
    "plt.matshow(conf_mx, cmap=plt.cm.gray)\n",
    "plt.show()\n",
    "\n",
    "prec = precision_score(y_train, y_train_pred, average=None)\n",
    "rec = recall_score(y_train, y_train_pred, average=None)\n",
    "f1 = f1_score(y_train, y_train_pred, average=None)\n",
    "\n",
    "print(\"\\t\\t  class 1\\tclass 2\\t class 3\")\n",
    "print(\"precision: \\t\", prec)\n",
    "print(\"recall: \\t\", rec)\n",
    "print(\"f1_score: \\t\", f1)\n"
   ]
  },
  {
   "cell_type": "code",
   "execution_count": 44,
   "metadata": {},
   "outputs": [
    {
     "name": "stdout",
     "output_type": "stream",
     "text": [
      "Prediction for our new observation X_new:  [2 0]\n",
      "cross_val: [0.97368421 0.97368421 0.97222222]\n",
      "confusion matrix:\n",
      " [[32  0  0]\n",
      " [ 0 41  1]\n",
      " [ 0  2 36]]\n"
     ]
    },
    {
     "name": "stderr",
     "output_type": "stream",
     "text": [
      "/home/nate/anaconda3/envs/cs791/lib/python3.7/site-packages/sklearn/svm/base.py:931: ConvergenceWarning: Liblinear failed to converge, increase the number of iterations.\n",
      "  \"the number of iterations.\", ConvergenceWarning)\n",
      "/home/nate/anaconda3/envs/cs791/lib/python3.7/site-packages/sklearn/svm/base.py:931: ConvergenceWarning: Liblinear failed to converge, increase the number of iterations.\n",
      "  \"the number of iterations.\", ConvergenceWarning)\n",
      "/home/nate/anaconda3/envs/cs791/lib/python3.7/site-packages/sklearn/svm/base.py:931: ConvergenceWarning: Liblinear failed to converge, increase the number of iterations.\n",
      "  \"the number of iterations.\", ConvergenceWarning)\n",
      "/home/nate/anaconda3/envs/cs791/lib/python3.7/site-packages/sklearn/svm/base.py:931: ConvergenceWarning: Liblinear failed to converge, increase the number of iterations.\n",
      "  \"the number of iterations.\", ConvergenceWarning)\n",
      "/home/nate/anaconda3/envs/cs791/lib/python3.7/site-packages/sklearn/svm/base.py:931: ConvergenceWarning: Liblinear failed to converge, increase the number of iterations.\n",
      "  \"the number of iterations.\", ConvergenceWarning)\n",
      "/home/nate/anaconda3/envs/cs791/lib/python3.7/site-packages/sklearn/svm/base.py:931: ConvergenceWarning: Liblinear failed to converge, increase the number of iterations.\n",
      "  \"the number of iterations.\", ConvergenceWarning)\n",
      "/home/nate/anaconda3/envs/cs791/lib/python3.7/site-packages/sklearn/svm/base.py:931: ConvergenceWarning: Liblinear failed to converge, increase the number of iterations.\n",
      "  \"the number of iterations.\", ConvergenceWarning)\n"
     ]
    },
    {
     "data": {
      "image/png": "[encoded data removed]",
      "text/plain": [
       "<Figure size 288x288 with 1 Axes>"
      ]
     },
     "metadata": {
      "needs_background": "light"
     },
     "output_type": "display_data"
    },
    {
     "name": "stdout",
     "output_type": "stream",
     "text": [
      "\t\t  class 1\tclass 2\t class 3\n",
      "precision: \t [1.         0.95348837 0.97297297]\n",
      "recall: \t [1.         0.97619048 0.94736842]\n",
      "f1_score: \t [1.         0.96470588 0.96      ]\n"
     ]
    }
   ],
   "source": [
    "# ANSWER: SECOND NEW CLASSIFICATION MODEL \n",
    "#         - fill in the ???? with your chosen classifier!!!\n",
    "\n",
    "# import the class\n",
    "from sklearn.svm import LinearSVC\n",
    "\n",
    "# instantiate the model (using the default parameters)\n",
    "linSVC = LinearSVC()\n",
    "\n",
    "# fit the model with data\n",
    "linSVC.fit(X_train, y_train)\n",
    "\n",
    "# predict the response for new observations\n",
    "pred = linSVC.predict(X_new)\n",
    "print(\"Prediction for our new observation X_new: \", pred)\n",
    "\n",
    "# evaluate the new model:\n",
    "cross_val = cross_val_score(linSVC, X_train, y_train, cv=3, scoring=\"accuracy\")\n",
    "print(\"cross_val:\", cross_val)\n",
    "\n",
    "y_train_pred = cross_val_predict(linSVC, X_train, y_train, cv=3)\n",
    "conf_mx = confusion_matrix(y_train, y_train_pred)\n",
    "print(\"confusion matrix:\\n\", conf_mx)\n",
    "plt.matshow(conf_mx, cmap=plt.cm.gray)\n",
    "plt.show()\n",
    "\n",
    "prec = precision_score(y_train, y_train_pred, average=None)\n",
    "rec = recall_score(y_train, y_train_pred, average=None)\n",
    "f1 = f1_score(y_train, y_train_pred, average=None)\n",
    "\n",
    "print(\"\\t\\t  class 1\\tclass 2\\t class 3\")\n",
    "print(\"precision: \\t\", prec)\n",
    "print(\"recall: \\t\", rec)\n",
    "print(\"f1_score: \\t\", f1)\n"
   ]
  },
  {
   "cell_type": "code",
   "execution_count": 46,
   "metadata": {
    "scrolled": true
   },
   "outputs": [
    {
     "name": "stderr",
     "output_type": "stream",
     "text": [
      "/home/nate/anaconda3/envs/cs791/lib/python3.7/site-packages/sklearn/neural_network/multilayer_perceptron.py:562: ConvergenceWarning: Stochastic Optimizer: Maximum iterations (200) reached and the optimization hasn't converged yet.\n",
      "  % self.max_iter, ConvergenceWarning)\n",
      "/home/nate/anaconda3/envs/cs791/lib/python3.7/site-packages/sklearn/neural_network/multilayer_perceptron.py:562: ConvergenceWarning: Stochastic Optimizer: Maximum iterations (200) reached and the optimization hasn't converged yet.\n",
      "  % self.max_iter, ConvergenceWarning)\n",
      "/home/nate/anaconda3/envs/cs791/lib/python3.7/site-packages/sklearn/neural_network/multilayer_perceptron.py:562: ConvergenceWarning: Stochastic Optimizer: Maximum iterations (200) reached and the optimization hasn't converged yet.\n",
      "  % self.max_iter, ConvergenceWarning)\n"
     ]
    },
    {
     "name": "stdout",
     "output_type": "stream",
     "text": [
      "Prediction for our new observation X_new:  [0 1]\n"
     ]
    },
    {
     "name": "stderr",
     "output_type": "stream",
     "text": [
      "/home/nate/anaconda3/envs/cs791/lib/python3.7/site-packages/sklearn/neural_network/multilayer_perceptron.py:562: ConvergenceWarning: Stochastic Optimizer: Maximum iterations (200) reached and the optimization hasn't converged yet.\n",
      "  % self.max_iter, ConvergenceWarning)\n",
      "/home/nate/anaconda3/envs/cs791/lib/python3.7/site-packages/sklearn/neural_network/multilayer_perceptron.py:562: ConvergenceWarning: Stochastic Optimizer: Maximum iterations (200) reached and the optimization hasn't converged yet.\n",
      "  % self.max_iter, ConvergenceWarning)\n",
      "/home/nate/anaconda3/envs/cs791/lib/python3.7/site-packages/sklearn/neural_network/multilayer_perceptron.py:562: ConvergenceWarning: Stochastic Optimizer: Maximum iterations (200) reached and the optimization hasn't converged yet.\n",
      "  % self.max_iter, ConvergenceWarning)\n"
     ]
    },
    {
     "name": "stdout",
     "output_type": "stream",
     "text": [
      "cross_val: [1.         0.97368421 0.97222222]\n",
      "confusion matrix:\n",
      " [[32  0  0]\n",
      " [ 0 41  1]\n",
      " [ 0  1 37]]\n"
     ]
    },
    {
     "name": "stderr",
     "output_type": "stream",
     "text": [
      "/home/nate/anaconda3/envs/cs791/lib/python3.7/site-packages/sklearn/neural_network/multilayer_perceptron.py:562: ConvergenceWarning: Stochastic Optimizer: Maximum iterations (200) reached and the optimization hasn't converged yet.\n",
      "  % self.max_iter, ConvergenceWarning)\n"
     ]
    },
    {
     "data": {
      "image/png": "[encoded data removed]",
      "text/plain": [
       "<Figure size 288x288 with 1 Axes>"
      ]
     },
     "metadata": {
      "needs_background": "light"
     },
     "output_type": "display_data"
    },
    {
     "name": "stdout",
     "output_type": "stream",
     "text": [
      "\t\t  class 1\tclass 2\t class 3\n",
      "precision: \t [1.         0.97619048 0.97368421]\n",
      "recall: \t [1.         0.97619048 0.97368421]\n",
      "f1_score: \t [1.         0.97619048 0.97368421]\n"
     ]
    }
   ],
   "source": [
    "# ANSWER: THIRD NEW CLASSIFICATION MODEL \n",
    "#         - fill in the ???? with your chosen classifier!!!\n",
    "\n",
    "# import the class\n",
    "from sklearn.neural_network import MLPClassifier\n",
    "\n",
    "# instantiate the model (using the default parameters)\n",
    "mlp = MLPClassifier()\n",
    "\n",
    "# fit the model with data\n",
    "mlp.fit(X_train, y_train)\n",
    "\n",
    "# predict the response for new observations\n",
    "pred = mlp.predict(X_new)\n",
    "print(\"Prediction for our new observation X_new: \", pred)\n",
    "\n",
    "# evaluate the new model:\n",
    "cross_val = cross_val_score(mlp, X_train, y_train, cv=3, scoring=\"accuracy\")\n",
    "print(\"cross_val:\", cross_val)\n",
    "\n",
    "y_train_pred = cross_val_predict(mlp, X_train, y_train, cv=3)\n",
    "conf_mx = confusion_matrix(y_train, y_train_pred)\n",
    "print(\"confusion matrix:\\n\", conf_mx)\n",
    "plt.matshow(conf_mx, cmap=plt.cm.gray)\n",
    "plt.show()\n",
    "\n",
    "prec = precision_score(y_train, y_train_pred, average=None)\n",
    "rec = recall_score(y_train, y_train_pred, average=None)\n",
    "f1 = f1_score(y_train, y_train_pred, average=None)\n",
    "\n",
    "print(\"\\t\\t  class 1\\tclass 2\\t class 3\")\n",
    "print(\"precision: \\t\", prec)\n",
    "print(\"recall: \\t\", rec)\n",
    "print(\"f1_score: \\t\", f1)\n"
   ]
  },
  {
   "cell_type": "markdown",
   "metadata": {},
   "source": [
    "**QUESTION:** Based on the above evaluation for the two knn models and the three other models you generated, which model performed the best and why?"
   ]
  },
  {
   "cell_type": "markdown",
   "metadata": {},
   "source": [
    "**ANSWER:** The neural network and the non-linear SVM performed very comparably. I would say that the SVM is the better model because it is an interpretable, and simpler, solution compared to the neural network, which can be a bit of a black box. The SVM creates a model with optimal decision boundary (if non-linear will use kernels and slack variables to find the best option)."
   ]
  },
  {
   "cell_type": "markdown",
   "metadata": {},
   "source": [
    "**QUESTION:** Rank the two knn models and your three other models in performance from best to worst. Explain your ranking"
   ]
  },
  {
   "cell_type": "markdown",
   "metadata": {},
   "source": [
    "**ANSWER:** \n",
    "SVM\n",
    "Neural Network\n",
    "KNN with 5 neighbors\n",
    "Linear SVM\n",
    "KNN with 1 neighbor\n",
    "\n",
    "Difference between SVM and neural net explained above.\n",
    "KNN with 5 neighbors achieves a better cross validation score than the Linear SVM\n",
    "The linear SVM has fewer misclassifications\n",
    "KNN with 1 neighbor has most misclassifications and is least generalizeable"
   ]
  },
  {
   "cell_type": "code",
   "execution_count": null,
   "metadata": {},
   "outputs": [],
   "source": []
  }
 ],
 "metadata": {
  "kernelspec": {
   "display_name": "Python 3",
   "language": "python",
   "name": "python3"
  },
  "language_info": {
   "codemirror_mode": {
    "name": "ipython",
    "version": 3
   },
   "file_extension": ".py",
   "mimetype": "text/x-python",
   "name": "python",
   "nbconvert_exporter": "python",
   "pygments_lexer": "ipython3",
   "version": "3.7.2"
  }
 },
 "nbformat": 4,
 "nbformat_minor": 1
}
